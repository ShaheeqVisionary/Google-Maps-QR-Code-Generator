{
  "nbformat": 4,
  "nbformat_minor": 0,
  "metadata": {
    "colab": {
      "provenance": []
    },
    "kernelspec": {
      "name": "python3",
      "display_name": "Python 3"
    },
    "language_info": {
      "name": "python"
    }
  },
  "cells": [
    {
      "cell_type": "code",
      "execution_count": null,
      "metadata": {
        "colab": {
          "base_uri": "https://localhost:8080/"
        },
        "id": "iwp90Zv32Bzd",
        "outputId": "0b94735c-879a-4ab3-af15-fc2db476abaa"
      },
      "outputs": [
        {
          "output_type": "stream",
          "name": "stdout",
          "text": [
            "Collecting qrcode[pil]\n",
            "  Downloading qrcode-8.0-py3-none-any.whl.metadata (17 kB)\n",
            "Requirement already satisfied: pillow>=9.1.0 in /usr/local/lib/python3.10/dist-packages (from qrcode[pil]) (10.4.0)\n",
            "Downloading qrcode-8.0-py3-none-any.whl (45 kB)\n",
            "\u001b[2K   \u001b[90m━━━━━━━━━━━━━━━━━━━━━━━━━━━━━━━━━━━━━━━━\u001b[0m \u001b[32m45.7/45.7 kB\u001b[0m \u001b[31m1.6 MB/s\u001b[0m eta \u001b[36m0:00:00\u001b[0m\n",
            "\u001b[?25hInstalling collected packages: qrcode\n",
            "Successfully installed qrcode-8.0\n"
          ]
        }
      ],
      "source": [
        "!pip install qrcode[pil]\n"
      ]
    },
    {
      "cell_type": "code",
      "source": [
        "import qrcode\n",
        "\n",
        "# Your Google Maps link\n",
        "url = \"https://goo.gl/maps/WRoCoZdn3AQ6Ads46\"\n",
        "\n",
        "# Generate QR code\n",
        "qr = qrcode.QRCode(\n",
        "    version=1,  # controls the size of the QR Code\n",
        "    error_correction=qrcode.constants.ERROR_CORRECT_L,  # error correction\n",
        "    box_size=10,  # size of the box where QR code is displayed\n",
        "    border=4,  # thickness of the border\n",
        ")\n",
        "\n",
        "qr.add_data(url)\n",
        "qr.make(fit=True)\n",
        "\n",
        "# Create an image from the QR Code instance\n",
        "img = qr.make_image(fill=\"black\", back_color=\"white\")\n",
        "\n",
        "# Save the image as a PNG file\n",
        "img.save(\"/content/sample_data/google_maps_qr_code.png\")\n",
        "\n",
        "print(\"QR code generated and saved as google_maps_qr_code.png\")\n"
      ],
      "metadata": {
        "colab": {
          "base_uri": "https://localhost:8080/"
        },
        "id": "gjr819tF2ECN",
        "outputId": "b308accf-b2b6-419d-8385-5dbdf5b53ec5"
      },
      "execution_count": null,
      "outputs": [
        {
          "output_type": "stream",
          "name": "stdout",
          "text": [
            "QR code generated and saved as google_maps_qr_code.png\n"
          ]
        }
      ]
    },
    {
      "cell_type": "code",
      "source": [],
      "metadata": {
        "id": "YgmK6cj72ETq"
      },
      "execution_count": null,
      "outputs": []
    }
  ]
}